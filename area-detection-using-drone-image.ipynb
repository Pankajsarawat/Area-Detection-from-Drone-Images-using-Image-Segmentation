{
 "cells": [
  {
   "cell_type": "code",
   "execution_count": 1,
   "id": "e46503ca",
   "metadata": {
    "execution": {
     "iopub.execute_input": "2025-03-03T16:39:05.102767Z",
     "iopub.status.busy": "2025-03-03T16:39:05.102448Z",
     "iopub.status.idle": "2025-03-03T16:39:12.405156Z",
     "shell.execute_reply": "2025-03-03T16:39:12.404377Z"
    },
    "papermill": {
     "duration": 7.30817,
     "end_time": "2025-03-03T16:39:12.406920",
     "exception": false,
     "start_time": "2025-03-03T16:39:05.098750",
     "status": "completed"
    },
    "tags": []
   },
   "outputs": [],
   "source": [
    "import torch\n",
    "from torchvision import models, transforms\n",
    "from PIL import Image\n",
    "import matplotlib.pyplot as plt"
   ]
  },
  {
   "cell_type": "code",
   "execution_count": 2,
   "id": "7dcc6c97",
   "metadata": {
    "execution": {
     "iopub.execute_input": "2025-03-03T16:39:12.411518Z",
     "iopub.status.busy": "2025-03-03T16:39:12.411070Z",
     "iopub.status.idle": "2025-03-03T16:39:45.167220Z",
     "shell.execute_reply": "2025-03-03T16:39:45.165498Z"
    },
    "papermill": {
     "duration": 32.759708,
     "end_time": "2025-03-03T16:39:45.168639",
     "exception": true,
     "start_time": "2025-03-03T16:39:12.408931",
     "status": "failed"
    },
    "tags": []
   },
   "outputs": [
    {
     "name": "stderr",
     "output_type": "stream",
     "text": [
      "Downloading: \"https://download.pytorch.org/models/resnet101-63fe2227.pth\" to /root/.cache/torch/hub/checkpoints/resnet101-63fe2227.pth\n"
     ]
    },
    
   ],
   "source": [
    "model = models.segmentation.deeplabv3_resnet101()\n",
    "checkpoint = torch.load(r\"/kaggle/input/sample-image/deeplabv3_resnet101_coco-586e9e4e.pth\")\n",
    "model.load_state_dict(checkpoint,strict=False)\n",
    "model.eval()"
   ]
  },
  {
   "cell_type": "code",
   "execution_count": null,
   "id": "64bd9a9e",
   "metadata": {
    "execution": {
     "execution_failed": "2024-12-20T15:01:22.443Z"
    },
    "papermill": {
     "duration": null,
     "end_time": null,
     "exception": null,
     "start_time": null,
     "status": "pending"
    },
    "tags": []
   },
   "outputs": [],
   "source": [
    "transform = transforms.Compose([\n",
    "    transforms.Resize((520,520)),\n",
    "    transforms.ToTensor(),\n",
    "    transforms.Normalize(mean=[0.485,0.456,.406], std=[0.229,0.224,0.225])\n",
    "])\n",
    "image = Image.open(\"sample_image.jpg\").convert(\"RGB\")\n",
    "input_image = transform(image).unsqueeze(0)"
   ]
  },
  {
   "cell_type": "code",
   "execution_count": null,
   "id": "d769b9e8",
   "metadata": {
    "execution": {
     "execution_failed": "2024-12-20T15:01:22.443Z"
    },
    "papermill": {
     "duration": null,
     "end_time": null,
     "exception": null,
     "start_time": null,
     "status": "pending"
    },
    "tags": []
   },
   "outputs": [],
   "source": [
    "output = model(input_image)[\"out\"][0]\n",
    "output_predictions = torch.argmax(output, dim=0)"
   ]
  },
  {
   "cell_type": "code",
   "execution_count": null,
   "id": "a934a284",
   "metadata": {
    "execution": {
     "execution_failed": "2024-12-20T15:01:22.443Z"
    },
    "papermill": {
     "duration": null,
     "end_time": null,
     "exception": null,
     "start_time": null,
     "status": "pending"
    },
    "tags": []
   },
   "outputs": [],
   "source": [
    "plt.imshow(output_predictions.detach().numpy)\n",
    "plt.axis(\"off\")\n",
    "plt.show()"
   ]
  }
 ],
 "metadata": {
  "kaggle": {
   "accelerator": "none",
   "dataSources": [
    {
     "datasetId": 6344609,
     "sourceId": 10256365,
     "sourceType": "datasetVersion"
    }
   ],
   "dockerImageVersionId": 30822,
   "isGpuEnabled": false,
   "isInternetEnabled": false,
   "language": "python",
   "sourceType": "notebook"
  },
  "kernelspec": {
   "display_name": "Python 3",
   "language": "python",
   "name": "python3"
  },
  "language_info": {
   "codemirror_mode": {
    "name": "ipython",
    "version": 3
   },
   "file_extension": ".py",
   "mimetype": "text/x-python",
   "name": "python",
   "nbconvert_exporter": "python",
   "pygments_lexer": "ipython3",
   "version": "3.10.12"
  },
  "papermill": {
   "default_parameters": {},
   "duration": 45.035623,
   "end_time": "2025-03-03T16:39:47.095696",
   "environment_variables": {},
   "exception": true,
   "input_path": "__notebook__.ipynb",
   "output_path": "__notebook__.ipynb",
   "parameters": {},
   "start_time": "2025-03-03T16:39:02.060073",
   "version": "2.6.0"
  }
 },
 "nbformat": 4,
 "nbformat_minor": 5
}
